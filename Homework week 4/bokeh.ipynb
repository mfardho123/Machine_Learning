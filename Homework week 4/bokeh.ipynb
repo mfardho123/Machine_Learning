{
  "nbformat": 4,
  "nbformat_minor": 0,
  "metadata": {
    "colab": {
      "name": "bokeh.ipynb",
      "provenance": []
    },
    "kernelspec": {
      "name": "python3",
      "display_name": "Python 3"
    },
    "language_info": {
      "name": "python"
    }
  },
  "cells": [
    {
      "cell_type": "code",
      "metadata": {
        "id": "HC6yseCBgvBI"
      },
      "source": [
        "from bokeh.plotting import figure, output_file, show\n",
        "from bokeh.tile_providers import CARTODBPOSITRON, get_provider\n",
        "\n",
        "output_file(\"tile.html\")\n",
        "\n",
        "tile_provider = get_provider(CARTODBPOSITRON)\n",
        "\n",
        "# range bounds supplied in web mercator coordinates\n",
        "p = figure(x_range=(-2000000, 6000000), y_range=(-1000000, 7000000),\n",
        "           x_axis_type=\"mercator\", y_axis_type=\"mercator\")\n",
        "p.add_tile(tile_provider)\n",
        "\n",
        "show(p)"
      ],
      "execution_count": 9,
      "outputs": []
    },
    {
      "cell_type": "code",
      "metadata": {
        "id": "ypYy1inViWJr"
      },
      "source": [
        "from bokeh.io import output_file, show\n",
        "from bokeh.models import ColumnDataSource, GMapOptions\n",
        "from bokeh.plotting import gmap\n",
        "\n",
        "output_file(\"gmap.html\")\n",
        "\n",
        "map_options = GMapOptions(lat=30.2861, lng=-97.7394, map_type=\"roadmap\", zoom=11)\n",
        "\n",
        "# For GMaps to function, Google requires you obtain and enable an API key:\n",
        "#\n",
        "#     https://developers.google.com/maps/documentation/javascript/get-api-key\n",
        "#\n",
        "# Replace the value below with your personal API key:\n",
        "p = gmap(\"GOOGLE_API_KEY\", map_options, title=\"Austin\")\n",
        "\n",
        "source = ColumnDataSource(\n",
        "    data=dict(lat=[ 30.29,  30.20,  30.29],\n",
        "              lon=[-97.70, -97.74, -97.78])\n",
        ")\n",
        "\n",
        "p.circle(x=\"lon\", y=\"lat\", size=15, fill_color=\"blue\", fill_alpha=0.8, source=source)\n",
        "\n",
        "show(p)\n"
      ],
      "execution_count": 12,
      "outputs": []
    },
    {
      "cell_type": "code",
      "metadata": {
        "id": "mHUdWj5oiYbe"
      },
      "source": [
        "import json\n",
        "\n",
        "from bokeh.io import output_file, show\n",
        "from bokeh.models import GeoJSONDataSource\n",
        "from bokeh.plotting import figure\n",
        "from bokeh.sampledata.sample_geojson import geojson\n",
        "\n",
        "output_file(\"geojson.html\")\n",
        "\n",
        "data = json.loads(geojson)\n",
        "for i in range(len(data['features'])):\n",
        "    data['features'][i]['properties']['Color'] = ['blue', 'red'][i%2]\n",
        "\n",
        "geo_source = GeoJSONDataSource(geojson=json.dumps(data))\n",
        "\n",
        "TOOLTIPS = [\n",
        "    ('Organisation', '@OrganisationName')\n",
        "]\n",
        "\n",
        "p = figure(background_fill_color=\"lightgrey\", tooltips=TOOLTIPS)\n",
        "p.circle(x='x', y='y', size=15, color='Color', alpha=0.7, source=geo_source)\n",
        "\n",
        "show(p)"
      ],
      "execution_count": 13,
      "outputs": []
    }
  ]
}